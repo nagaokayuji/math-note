{
  "nbformat": 4,
  "nbformat_minor": 0,
  "metadata": {
    "colab": {
      "name": "Untitled0.ipynb",
      "provenance": [],
      "collapsed_sections": []
    },
    "kernelspec": {
      "name": "python3",
      "display_name": "Python 3"
    },
    "language_info": {
      "name": "python"
    }
  },
  "cells": [
    {
      "cell_type": "code",
      "metadata": {
        "colab": {
          "base_uri": "https://localhost:8080/"
        },
        "id": "BmCXI0YFmmZq",
        "outputId": "855e73bb-527f-4bb7-8dec-0445da7bce3b"
      },
      "source": [
        "from sympy import *\n",
        "from sympy.solvers import ode\n",
        "init_session()"
      ],
      "execution_count": 103,
      "outputs": [
        {
          "output_type": "stream",
          "name": "stdout",
          "text": [
            "IPython console for SymPy 1.7.1 (Python 3.7.12-64-bit) (ground types: python)\n",
            "\n",
            "These commands were executed:\n",
            ">>> from __future__ import division\n",
            ">>> from sympy import *\n",
            ">>> x, y, z, t = symbols('x y z t')\n",
            ">>> k, m, n = symbols('k m n', integer=True)\n",
            ">>> f, g, h = symbols('f g h', cls=Function)\n",
            ">>> init_printing()\n",
            "\n",
            "Documentation can be found at https://docs.sympy.org/1.7.1/\n",
            "\n"
          ]
        }
      ]
    },
    {
      "cell_type": "code",
      "metadata": {
        "colab": {
          "base_uri": "https://localhost:8080/"
        },
        "id": "Wrz4ujurpY1G",
        "outputId": "73ae87a3-cc66-443c-ae21-d7dde3352a0a"
      },
      "source": [
        "an = Sum(117*k-3*k*(k-1), (k,3,n))\n",
        "an.simplify\n"
      ],
      "execution_count": null,
      "outputs": [
        {
          "output_type": "execute_result",
          "data": {
            "text/plain": [
              "<bound method Basic.simplify of Sum(-3*k*(k - 1) + 117*k, (k, 3, n))>"
            ]
          },
          "metadata": {},
          "execution_count": 39
        }
      ]
    },
    {
      "cell_type": "code",
      "metadata": {
        "colab": {
          "base_uri": "https://localhost:8080/",
          "height": 37
        },
        "id": "xFPyXnmGqtzt",
        "outputId": "524de54b-5203-4471-ce41-0de8efbb8427"
      },
      "source": [
        "\n",
        "summation(an.formula, (m,1,n))"
      ],
      "execution_count": null,
      "outputs": [
        {
          "output_type": "execute_result",
          "data": {
            "image/png": "[encoded data removed]",
            "text/latex": "$\\displaystyle n \\left(- 3 n \\left(n - 1\\right) + 117 n\\right)$",
            "text/plain": [
              "n⋅(-3⋅n⋅(n - 1) + 117⋅n)"
            ]
          },
          "metadata": {},
          "execution_count": 25
        }
      ]
    },
    {
      "cell_type": "code",
      "metadata": {
        "colab": {
          "base_uri": "https://localhost:8080/",
          "height": 69
        },
        "id": "FKCU5i-XrWSe",
        "outputId": "9e98987d-f2d0-4f4d-bc66-4d082827883a"
      },
      "source": [
        "Sum(n**x, (n, 1, k))"
      ],
      "execution_count": null,
      "outputs": [
        {
          "output_type": "execute_result",
          "data": {
            "image/png": "[encoded data removed]",
            "text/latex": "$\\displaystyle \\sum_{n=1}^{k} n^{x}$",
            "text/plain": [
              "  k     \n",
              " ___    \n",
              " ╲      \n",
              "  ╲    x\n",
              "  ╱   n \n",
              " ╱      \n",
              " ‾‾‾    \n",
              "n = 1   "
            ]
          },
          "metadata": {},
          "execution_count": 32
        }
      ]
    },
    {
      "cell_type": "code",
      "metadata": {
        "colab": {
          "base_uri": "https://localhost:8080/",
          "height": 39
        },
        "id": "PqYu5XK2wbgn",
        "outputId": "684afc5c-f930-48c1-9e0a-2905884cd10a"
      },
      "source": [
        "sequence(117*m-3*m*(m-1),(m,1,k))"
      ],
      "execution_count": null,
      "outputs": [
        {
          "output_type": "execute_result",
          "data": {
            "image/png": "[encoded data removed]",
            "text/latex": "$\\displaystyle \\left\\{- 3 m \\left(m - 1\\right) + 117 m\\right\\}_{m=1}^{k}$"
          },
          "metadata": {},
          "execution_count": 40
        }
      ]
    },
    {
      "cell_type": "code",
      "metadata": {
        "colab": {
          "base_uri": "https://localhost:8080/",
          "height": 52
        },
        "id": "BCQ4BHPayf5K",
        "outputId": "23a5af74-68c0-4f32-9c3b-10731dfe9e0b"
      },
      "source": [
        "s = summation(1/(9*k**2),(k,1,n))\n",
        "s"
      ],
      "execution_count": null,
      "outputs": [
        {
          "output_type": "execute_result",
          "data": {
            "image/png": "[encoded data removed]",
            "text/latex": "$\\displaystyle \\frac{\\operatorname{harmonic}{\\left(n,2 \\right)}}{9}$",
            "text/plain": [
              "harmonic(n, 2)\n",
              "──────────────\n",
              "      9       "
            ]
          },
          "metadata": {},
          "execution_count": 69
        }
      ]
    },
    {
      "cell_type": "code",
      "metadata": {
        "colab": {
          "base_uri": "https://localhost:8080/",
          "height": 54
        },
        "id": "g5XXGkdPykbK",
        "outputId": "512e14ac-928d-41ab-b391-49e5d5961c93"
      },
      "source": [
        "limit(s, n, oo)"
      ],
      "execution_count": null,
      "outputs": [
        {
          "output_type": "execute_result",
          "data": {
            "image/png": "[encoded data removed]",
            "text/latex": "$\\displaystyle \\frac{\\pi^{2}}{54}$",
            "text/plain": [
              " 2\n",
              "π \n",
              "──\n",
              "54"
            ]
          },
          "metadata": {},
          "execution_count": 72
        }
      ]
    },
    {
      "cell_type": "code",
      "metadata": {
        "colab": {
          "base_uri": "https://localhost:8080/",
          "height": 51
        },
        "id": "-zOcPpfzNzkk",
        "outputId": "e0fc20f2-903e-4ff9-9865-eb9c256b851c"
      },
      "source": [
        "integrate(x**(-2), x)\n"
      ],
      "execution_count": null,
      "outputs": [
        {
          "output_type": "execute_result",
          "data": {
            "image/png": "[encoded data removed]",
            "text/latex": "$\\displaystyle - \\frac{1}{x}$",
            "text/plain": [
              "-1 \n",
              "───\n",
              " x "
            ]
          },
          "metadata": {},
          "execution_count": 75
        }
      ]
    },
    {
      "cell_type": "code",
      "metadata": {
        "colab": {
          "base_uri": "https://localhost:8080/"
        },
        "id": "3RY6qxZIN0rK",
        "outputId": "4eebf51b-7901-4b34-88d5-72867a4dc880"
      },
      "source": [
        "N"
      ],
      "execution_count": null,
      "outputs": [
        {
          "output_type": "execute_result",
          "data": {
            "text/plain": [
              "<function sympy.core.evalf.N>"
            ]
          },
          "metadata": {},
          "execution_count": 76
        }
      ]
    },
    {
      "cell_type": "code",
      "metadata": {
        "colab": {
          "base_uri": "https://localhost:8080/",
          "height": 66
        },
        "id": "5kTLqhQYW-a3",
        "outputId": "db3dce9f-3b04-4aa0-eedd-4c5507694f05"
      },
      "source": [
        "integrate(1/(x*sqrt((x**3 + 1))), x)"
      ],
      "execution_count": null,
      "outputs": [
        {
          "output_type": "execute_result",
          "data": {
            "image/png": "[encoded data removed]",
            "text/latex": "$\\displaystyle - \\frac{2 \\operatorname{asinh}{\\left(\\frac{1}{x^{\\frac{3}{2}}} \\right)}}{3}$",
            "text/plain": [
              "        ⎛ 1  ⎞ \n",
              "-2⋅asinh⎜────⎟ \n",
              "        ⎜ 3/2⎟ \n",
              "        ⎝x   ⎠ \n",
              "───────────────\n",
              "       3       "
            ]
          },
          "metadata": {},
          "execution_count": 82
        }
      ]
    },
    {
      "cell_type": "code",
      "metadata": {
        "colab": {
          "base_uri": "https://localhost:8080/",
          "height": 81
        },
        "id": "iFCof7UUZpXp",
        "outputId": "275e9d3e-9d6d-4100-e124-fcb4ea283cf7"
      },
      "source": [
        "limit(summation(1/(3*k+1) - 1/(3*k+2), (k,0,n)),n,oo).doit()"
      ],
      "execution_count": null,
      "outputs": [
        {
          "output_type": "execute_result",
          "data": {
            "image/png": "[encoded data removed]",
            "text/latex": "$\\displaystyle \\lim_{n \\to \\infty}\\left(\\frac{e^{- \\frac{2 i \\pi}{3}} \\log{\\left(1 - e^{\\frac{4 i \\pi}{3}} \\right)}}{3} - \\frac{e^{\\frac{2 i \\pi}{3}} \\log{\\left(1 - e^{\\frac{4 i \\pi}{3}} \\right)}}{3} - \\frac{e^{- \\frac{2 i \\pi}{3}} \\log{\\left(1 - e^{\\frac{2 i \\pi}{3}} \\right)}}{3} + \\frac{e^{\\frac{2 i \\pi}{3}} \\log{\\left(1 - e^{\\frac{2 i \\pi}{3}} \\right)}}{3} - \\frac{\\left(- 3 n^{2} - 9 n - \\frac{20}{3}\\right) \\Phi\\left(1, 1, n + \\frac{5}{3}\\right) + \\left(3 n^{2} + 9 n + \\frac{20}{3}\\right) \\Phi\\left(1, 1, n + \\frac{4}{3}\\right)}{\\left(3 n + 4\\right) \\left(3 n + 5\\right)}\\right)$",
            "text/plain": [
              "    ⎛ -2⋅ⅈ⋅π     ⎛     4⋅ⅈ⋅π⎞    2⋅ⅈ⋅π    ⎛     4⋅ⅈ⋅π⎞    -2⋅ⅈ⋅π     ⎛     2⋅ⅈ\n",
              "    ⎜ ───────    ⎜     ─────⎟    ─────    ⎜     ─────⎟    ───────    ⎜     ───\n",
              "    ⎜    3       ⎜       3  ⎟      3      ⎜       3  ⎟       3       ⎜       3\n",
              "    ⎜ℯ       ⋅log⎝1 - ℯ     ⎠   ℯ     ⋅log⎝1 - ℯ     ⎠   ℯ       ⋅log⎝1 - ℯ   \n",
              "lim ⎜──────────────────────── - ────────────────────── - ─────────────────────\n",
              "n─→∞⎝           3                         3                         3         \n",
              "\n",
              "⋅π⎞    2⋅ⅈ⋅π    ⎛     2⋅ⅈ⋅π⎞                                                  \n",
              "──⎟    ─────    ⎜     ─────⎟   ⎛     2         20⎞                    ⎛   2   \n",
              "  ⎟      3      ⎜       3  ⎟   ⎜- 3⋅n  - 9⋅n - ──⎟⋅Φ(1, 1, n + 5/3) + ⎜3⋅n  + \n",
              "  ⎠   ℯ     ⋅log⎝1 - ℯ     ⎠   ⎝               3 ⎠                    ⎝       \n",
              "─── + ────────────────────── - ───────────────────────────────────────────────\n",
              "                3                                         (3⋅n + 4)⋅(3⋅n + 5) \n",
              "\n",
              "                          ⎞\n",
              "      20⎞                 ⎟\n",
              "9⋅n + ──⎟⋅Φ(1, 1, n + 4/3)⎟\n",
              "      3 ⎠                 ⎟\n",
              "──────────────────────────⎟\n",
              "                          ⎠"
            ]
          },
          "metadata": {},
          "execution_count": 99
        }
      ]
    },
    {
      "cell_type": "code",
      "metadata": {
        "colab": {
          "base_uri": "https://localhost:8080/",
          "height": 52
        },
        "id": "5eoPoPkgagfP",
        "outputId": "c59eee63-d8f0-44b1-e44a-212572a789d9"
      },
      "source": [
        "float((sqrt(3)*pi)/9)\n",
        "f(x).diff(x)"
      ],
      "execution_count": 106,
      "outputs": [
        {
          "output_type": "execute_result",
          "data": {
            "image/png": "[encoded data removed]",
            "text/latex": "$\\displaystyle \\frac{d}{d x} f{\\left(x \\right)}$",
            "text/plain": [
              "d       \n",
              "──(f(x))\n",
              "dx      "
            ]
          },
          "metadata": {},
          "execution_count": 106
        }
      ]
    },
    {
      "cell_type": "code",
      "metadata": {
        "colab": {
          "base_uri": "https://localhost:8080/"
        },
        "id": "xSBAPRhfsXTa",
        "outputId": "b5397d19-6308-4c19-cfdd-3c2fe45e82e1"
      },
      "source": [
        "eq = f(x) - 2*x*f(x).diff(x) - f(x).diff(x)**2\n",
        "eq"
      ],
      "execution_count": 109,
      "outputs": [
        {
          "output_type": "execute_result",
          "data": {
            "text/plain": [
              "('factorable', 'lie_group')"
            ]
          },
          "metadata": {},
          "execution_count": 109
        }
      ]
    },
    {
      "cell_type": "markdown",
      "metadata": {
        "id": "bWNgiWMQxXAo"
      },
      "source": [
        "# 新しいセクション"
      ]
    },
    {
      "cell_type": "markdown",
      "metadata": {
        "id": "mN5i4x6uxcFR"
      },
      "source": [
        ""
      ]
    },
    {
      "cell_type": "code",
      "metadata": {
        "id": "4uuHV_RkxYbu"
      },
      "source": [
        ""
      ],
      "execution_count": null,
      "outputs": []
    },
    {
      "cell_type": "markdown",
      "metadata": {
        "id": "Id6tDF1HQSHD"
      },
      "source": [
        "$\\sqrt{3x-1}+(1+x)^2.$\n"
      ]
    },
    {
      "cell_type": "code",
      "metadata": {
        "id": "-CoqzpI0xzPL"
      },
      "source": [
        ""
      ],
      "execution_count": null,
      "outputs": []
    }
  ]
}